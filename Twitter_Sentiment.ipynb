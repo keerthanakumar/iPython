{
 "cells": [
  {
   "cell_type": "code",
   "execution_count": 11,
   "metadata": {
    "collapsed": true
   },
   "outputs": [],
   "source": [
    "negative_set = set(open('negative.txt', 'r').read().splitlines())\n",
    "positive_set = set(open('positive.txt', 'r').read().splitlines())\n",
    "obama_tweets = open('obama_tweets.txt', 'r').read().splitlines()"
   ]
  },
  {
   "cell_type": "code",
   "execution_count": 12,
   "metadata": {
    "collapsed": true
   },
   "outputs": [],
   "source": [
    "def clean_split(tweet):\n",
    "    return [word.strip() for word in tweet.lower().split()]"
   ]
  },
  {
   "cell_type": "code",
   "execution_count": 14,
   "metadata": {
    "collapsed": false
   },
   "outputs": [],
   "source": [
    "sentiment = []\n",
    "for tweet in obama_tweets:\n",
    "    words = clean_split(tweet)\n",
    "    positive_counter = len(positive_set.intersection(words))\n",
    "    negative_counter = len(negative_set.intersection(words))\n",
    "    sentiment.append([positive_counter, negative_counter, len(words)])"
   ]
  }
 ],
 "metadata": {
  "kernelspec": {
   "display_name": "Python 3",
   "language": "python",
   "name": "python3"
  },
  "language_info": {
   "codemirror_mode": {
    "name": "ipython",
    "version": 3
   },
   "file_extension": ".py",
   "mimetype": "text/x-python",
   "name": "python",
   "nbconvert_exporter": "python",
   "pygments_lexer": "ipython3",
   "version": "3.5.0"
  }
 },
 "nbformat": 4,
 "nbformat_minor": 0
}
